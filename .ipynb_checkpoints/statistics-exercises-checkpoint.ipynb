{
 "cells": [
  {
   "cell_type": "code",
   "execution_count": null,
   "metadata": {
    "collapsed": true
   },
   "outputs": [],
   "source": [
    "import pandas as pd\n",
    "import numpy as np\n",
    "\n",
    "import plotly.plotly as py\n",
    "import plotly.graph_objs as go\n",
    "\n",
    "plotly.tools.set_credentials_file(username='katrography', api_key='sLvVzZFYW65lE9wS31u2')\n",
    "\n",
    "import plotly.figure_factory as ff"
   ]
  },
  {
   "cell_type": "code",
   "execution_count": 89,
   "metadata": {},
   "outputs": [
    {
     "data": {
      "text/html": [
       "<iframe id=\"igraph\" scrolling=\"no\" style=\"border:none;\" seamless=\"seamless\" src=\"https://plot.ly/~katrography/13.embed\" height=\"525px\" width=\"100%\"></iframe>"
      ],
      "text/plain": [
       "<plotly.tools.PlotlyDisplay object>"
      ]
     },
     "execution_count": 89,
     "metadata": {},
     "output_type": "execute_result"
    }
   ],
   "source": [
    "##### Two sample hypothesis testing\n",
    "\n",
    "# Is there a meaningful difference between the average wingspan of bald eagles vs that of crowned eagles?\n",
    "bald = [7.4, 7.7, 6.0, 6.7, 8.3, 6.5, 6.9, 7.7, 7.8, 7.3, 6.9, 6.5, 6.3, 4.8, 8.0, 6.8,5.8, 6.9, 6.3, 6.3, 6.4, 5.1, 6.9, 7.6, 5.6, 6.5, 6.7, 7.8, 6.6, 6.9, 7.0, 6.4, 7.4,6.0, 7.0, 5.3, 5.8, 6.4, 7.1, 5.5, 7.0, 6.7, 5.8, 6.1, 7.1, 7.9, 7.7, 6.2, 5.3, 6.4,6.9, 5.9, 7.8, 5.6, 5.0, 5.5, 6.4, 7.1, 8.6, 9.3, 6.8, 7.6, 7.2, 7.1, 5.8, 5.9, 5.1,6.6, 6.8, 5.7, 6.3, 7.3, 6.3, 7.2, 7.7, 6.0, 7.2, 5.9, 7.2, 7.0, 7.4, 6.5, 7.8, 5.9,6.3, 6.3, 8.3, 5.9, 6.9, 7.8]\n",
    "crowned = [5.3, 5.6, 5.8, 5.3, 5.6, 4.9, 5.7, 5.4, 5.8, 5.4, 6.0, 5.4, 5.1, 5.4, 5.2, 5.7,4.8, 5.8, 5.7, 5.1, 5.3, 5.4, 5.7, 6.6, 5.0, 5.4, 5.3, 5.5, 5.2, 5.6, 5.2, 5.9, 5.7,5.8, 5.5, 5.2, 4.0, 5.8, 5.2, 6.2, 5.4, 4.6, 5.3, 5.8, 6.3, 4.8, 5.6, 5.4, 5.2, 5.4,5.1, 6.0, 6.1, 5.4, 5.4, 5.3, 5.0, 6.0, 5.0, 5.8, 5.1, 5.3, 4.8, 5.6, 5.7, 6.1, 5.0,6.4, 5.1, 4.6, 5.3, 6.0, 4.8, 5.4, 4.3, 5.4, 5.1, 4.7, 6.0, 5.5, 5.4, 5.6, 5.2, 5.8,5.3, 4.9, 5.3, 5.5, 5.7, 4.7, 6.0, 5.6, 4.9, 5.4, 4.3, 5.5, 4.9, 5.3, 5.6, 6.0]\n",
    "bald_eagle = go.Histogram(\n",
    "    x=bald,\n",
    "    histnorm='count',\n",
    "    name='Bald Eagle',\n",
    "    xbins=dict(\n",
    "        start= 0,\n",
    "        end= 10,\n",
    "        size= 1\n",
    "    ),\n",
    "    marker= dict(\n",
    "        color='#FFD7E9',\n",
    "    ),\n",
    "    opacity= 0.75\n",
    ")\n",
    "crowned_eagle = go.Histogram(\n",
    "    x=crowned,\n",
    "    name='Crowned Eagle',\n",
    "    xbins=dict(\n",
    "        start= 0,\n",
    "        end= 10,\n",
    "        size= 1\n",
    "    ),\n",
    "    marker=dict(\n",
    "        color='#EB89B5'\n",
    "    ),\n",
    "    opacity=0.75\n",
    ")\n",
    "data = [bald_eagle, crowned_eagle]\n",
    "\n",
    "layout = go.Layout(\n",
    "    title='bald vs crowned eagle',\n",
    "    bargap=0.5,\n",
    "    bargroupgap=0.5\n",
    ")\n",
    "fig = go.Figure(data=data, layout=layout)\n",
    "py.iplot(fig, filename='crowned vs bald')"
   ]
  },
  {
   "cell_type": "code",
   "execution_count": 90,
   "metadata": {},
   "outputs": [
    {
     "data": {
      "text/html": [
       "<iframe id=\"igraph\" scrolling=\"no\" style=\"border:none;\" seamless=\"seamless\" src=\"https://plot.ly/~katrography/13.embed\" height=\"525px\" width=\"100%\"></iframe>"
      ],
      "text/plain": [
       "<plotly.tools.PlotlyDisplay object>"
      ]
     },
     "execution_count": 90,
     "metadata": {},
     "output_type": "execute_result"
    }
   ],
   "source": [
    "bald_eagle = go.Histogram(\n",
    "    x=bald,\n",
    "    name='Bald Eagle',\n",
    "    opacity=0.75\n",
    ")\n",
    "crowned_eagle = go.Histogram(\n",
    "    x=crowned,\n",
    "    name='Crowned Eagle',\n",
    "    opacity=0.75\n",
    ")\n",
    "\n",
    "data = [bald_eagle, crowned_eagle]\n",
    "layout = go.Layout(barmode='overlay')\n",
    "fig = go.Figure(data=data, layout=layout)\n",
    "py.iplot(fig, filename='crowned vs bald')"
   ]
  },
  {
   "cell_type": "code",
   "execution_count": 104,
   "metadata": {},
   "outputs": [
    {
     "name": "stdout",
     "output_type": "stream",
     "text": [
      "crowned average: 5.405 , bald average: 6.7\n",
      "crowned mode: ModeResult(mode=array([ 6.3]), count=array([7])) , bald mode: ModeResult(mode=array([ 5.4]), count=array([15]))\n",
      "crowned mode: ModeResult(mode=array([ 6.3]), count=array([7])) , bald mode: ModeResult(mode=array([ 5.4]), count=array([15]))\n"
     ]
    }
   ],
   "source": [
    "import scipy as sp\n",
    "from scipy import stats\n",
    "\n",
    "bald_mean, crowned_mean = np.average(bald), np.average(crowned)\n",
    "print('crowned average:', crowned_mean, ', bald average:', bald_mean)\n",
    "bald_mode, crowned_mode = stats.mode(crowned), stats.mode(bald)\n",
    "print('crowned mode:', crowned_mode, ', bald mode:', bald_mode)\n",
    "bald_mode, crowned_mode = stats.mode(crowned), stats.mode(bald)\n",
    "print('crowned mode:', crowned_mode, ', bald mode:', bald_mode)"
   ]
  },
  {
   "cell_type": "code",
   "execution_count": 105,
   "metadata": {},
   "outputs": [
    {
     "name": "stdout",
     "output_type": "stream",
     "text": [
      "m:  1.00810810811 , b:  1.06216216216 , y= 1.00810810811 x + 1.06216216216\n"
     ]
    },
    {
     "data": {
      "image/png": "[encoded data removed]",
      "text/plain": [
       "<matplotlib.figure.Figure at 0x1142624a8>"
      ]
     },
     "metadata": {},
     "output_type": "display_data"
    },
    {
     "name": "stdout",
     "output_type": "stream",
     "text": [
      "when x=4 y= 5.0945945946\n"
     ]
    }
   ],
   "source": [
    "# Relationship between two quantitative variables\n",
    "import matplotlib.pyplot as plt\n",
    "from numpy import arange, array, ones, linalg\n",
    "\n",
    "x = np.array([0, 1, 2, 3, 5])\n",
    "y = np.array([1, 2.1, 3.2, 4, 6.1])\n",
    "A = np.vstack([x, np.ones(len(x))]).T\n",
    "m, b = np.linalg.lstsq(A, y)[0]\n",
    "print('m: ',m,', b: ', b, ', y=',m,'x +',b)\n",
    "plt.plot(x, y, 'o', label='Original data', markersize=10)\n",
    "plt.plot(x, m*x + b, 'r', label='Fitted line')\n",
    "plt.show()\n",
    "\n",
    "# Estimate the value of y when x = 4\n",
    "y= 1.00810810811*4 + 1.06216216216\n",
    "print('when x=4 y=',y)"
   ]
  },
  {
   "cell_type": "code",
   "execution_count": 108,
   "metadata": {},
   "outputs": [
    {
     "name": "stdout",
     "output_type": "stream",
     "text": [
      "m:  3.00599348534 , b:  1.93315960912 , y= 3.00599348534 x + 1.93315960912\n"
     ]
    },
    {
     "data": {
      "image/png": "[encoded data removed]",
      "text/plain": [
       "<matplotlib.figure.Figure at 0x1116bdf28>"
      ]
     },
     "metadata": {},
     "output_type": "display_data"
    },
    {
     "data": {
      "image/png": "[encoded data removed]",
      "text/plain": [
       "<matplotlib.figure.Figure at 0x113d3a550>"
      ]
     },
     "metadata": {},
     "output_type": "display_data"
    }
   ],
   "source": [
    "x = np.array([0,1,2,3,4,7,9,11,30])\n",
    "y = np.array([2.,4.9,8.,10.8,13.9,23.1,29.,35.,92.1])\n",
    "A = np.vstack([x, np.ones(len(x))]).T\n",
    "m, b = np.linalg.lstsq(A, y)[0]\n",
    "print('m: ',m,', b: ', b, ', y=',m,'x +',b)\n",
    "plt.plot(x, y, 'o', label='Original data', markersize=10)\n",
    "plt.plot(x, m*x + b, 'r', label='Fitted line')\n",
    "plt.show()\n"
   ]
  },
  {
   "cell_type": "code",
   "execution_count": 117,
   "metadata": {},
   "outputs": [
    {
     "name": "stdout",
     "output_type": "stream",
     "text": [
      "best fit line:\n",
      "y = -345.64 + 87.78x\n"
     ]
    },
    {
     "data": {
      "image/png": "[encoded data removed]",
      "text/plain": [
       "<matplotlib.figure.Figure at 0x113eed8d0>"
      ]
     },
     "metadata": {},
     "output_type": "display_data"
    }
   ],
   "source": [
    "coord =[(0, 42.0), (1, -101.0), (2, 21.0), (3, -38.0), (4, 5.0), (7, 20.0), (9, 293.0), (11, 266.0), (15, 625.0), (20, 1266.0), (25, 1757.0), (30, 2844.0)]\n",
    "plt.scatter(*zip(*coord))\n",
    "plt.plot(np.unique(x), np.poly1d(np.polyfit(x, y, 1))(np.unique(x)))\n",
    "\n",
    "\n",
    "X=[0,1,2,3,4,7,9,11,15,20,25,30]\n",
    "Y=[42.0,-101.0,21.0,-38.0,5.0,20.0,293.0,266.0,625.0,1266.0,1757.0,2844.0]\n",
    "\n",
    "def best_fit(X, Y):\n",
    "\n",
    "    xbar = sum(X)/len(X)\n",
    "    ybar = sum(Y)/len(Y)\n",
    "    n = len(X) # or len(Y)\n",
    "\n",
    "    numer = sum([xi*yi for xi,yi in zip(X, Y)]) - n * xbar * ybar\n",
    "    denum = sum([xi**2 for xi in X]) - n * xbar**2\n",
    "\n",
    "    b = numer / denum\n",
    "    a = ybar - b * xbar\n",
    "\n",
    "    print('best fit line:\\ny = {:.2f} + {:.2f}x'.format(a, b))\n",
    "\n",
    "    return a, b\n",
    "\n",
    "# solution\n",
    "a, b = best_fit(X, Y)\n",
    "#best fit line:\n",
    "#y = 0.80 + 0.92x\n",
    "\n",
    "# plot points and fit line\n",
    "import matplotlib.pyplot as plt\n",
    "plt.scatter(X, Y)\n",
    "yfit = [a + b * xi for xi in X]\n",
    "plt.plot(X, yfit)\n",
    "plt.show()"
   ]
  },
  {
   "cell_type": "code",
   "execution_count": null,
   "metadata": {
    "collapsed": true
   },
   "outputs": [],
   "source": []
  }
 ],
 "metadata": {
  "kernelspec": {
   "display_name": "Python 3",
   "language": "python",
   "name": "python3"
  },
  "language_info": {
   "codemirror_mode": {
    "name": "ipython",
    "version": 3
   },
   "file_extension": ".py",
   "mimetype": "text/x-python",
   "name": "python",
   "nbconvert_exporter": "python",
   "pygments_lexer": "ipython3",
   "version": "3.6.3"
  }
 },
 "nbformat": 4,
 "nbformat_minor": 2
}
